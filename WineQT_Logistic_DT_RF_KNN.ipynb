{
  "nbformat": 4,
  "nbformat_minor": 0,
  "metadata": {
    "colab": {
      "name": "WineQT-Logistic-DT-RF-KNN.ipynb",
      "provenance": [],
      "collapsed_sections": []
    },
    "kernelspec": {
      "name": "python3",
      "display_name": "Python 3"
    },
    "language_info": {
      "name": "python"
    }
  },
  "cells": [
    {
      "cell_type": "code",
      "execution_count": null,
      "metadata": {
        "id": "9qsLMiMTo-78"
      },
      "outputs": [],
      "source": [
        "from sklearn.linear_model import LogisticRegression\n",
        "from sklearn.model_selection import train_test_split\n",
        "from sklearn.preprocessing import StandardScaler\n",
        "import pandas as pd\n",
        "import numpy as np"
      ]
    },
    {
      "cell_type": "code",
      "source": [
        "base_dir = 'drive/MyDrive/WineQT/'"
      ],
      "metadata": {
        "id": "-z5bVRPUqPpS"
      },
      "execution_count": null,
      "outputs": []
    },
    {
      "cell_type": "code",
      "source": [
        "inputs,targets = pd.read_csv(base_dir+'wineqt_2_inputs.csv'),pd.read_csv(base_dir+'wineqt_2_targets.csv')"
      ],
      "metadata": {
        "id": "ZVH_Zp0eqWTA"
      },
      "execution_count": null,
      "outputs": []
    },
    {
      "cell_type": "code",
      "source": [
        "targets = targets.drop(['Unnamed: 0'],axis=1)"
      ],
      "metadata": {
        "id": "KaflDPWoqZoL"
      },
      "execution_count": null,
      "outputs": []
    },
    {
      "cell_type": "code",
      "source": [
        "targets_dummies = pd.get_dummies(targets)"
      ],
      "metadata": {
        "id": "m9SLanQgqcQ2"
      },
      "execution_count": null,
      "outputs": []
    },
    {
      "cell_type": "code",
      "source": [
        "targets_dummies"
      ],
      "metadata": {
        "colab": {
          "base_uri": "https://localhost:8080/",
          "height": 447
        },
        "id": "r3IFoFStqePM",
        "outputId": "03fa3914-6672-4712-cc65-f9e122349713"
      },
      "execution_count": null,
      "outputs": [
        {
          "output_type": "execute_result",
          "data": {
            "text/plain": [
              "      quality_bad  quality_good\n",
              "0               1             0\n",
              "1               1             0\n",
              "2               1             0\n",
              "3               0             1\n",
              "4               1             0\n",
              "...           ...           ...\n",
              "1039            1             0\n",
              "1040            1             0\n",
              "1041            0             1\n",
              "1042            1             0\n",
              "1043            1             0\n",
              "\n",
              "[1044 rows x 2 columns]"
            ],
            "text/html": [
              "\n",
              "  <div id=\"df-8954cf1a-b9f2-4ab5-a8b8-de0c83e0ba62\">\n",
              "    <div class=\"colab-df-container\">\n",
              "      <div>\n",
              "<style scoped>\n",
              "    .dataframe tbody tr th:only-of-type {\n",
              "        vertical-align: middle;\n",
              "    }\n",
              "\n",
              "    .dataframe tbody tr th {\n",
              "        vertical-align: top;\n",
              "    }\n",
              "\n",
              "    .dataframe thead th {\n",
              "        text-align: right;\n",
              "    }\n",
              "</style>\n",
              "<table border=\"1\" class=\"dataframe\">\n",
              "  <thead>\n",
              "    <tr style=\"text-align: right;\">\n",
              "      <th></th>\n",
              "      <th>quality_bad</th>\n",
              "      <th>quality_good</th>\n",
              "    </tr>\n",
              "  </thead>\n",
              "  <tbody>\n",
              "    <tr>\n",
              "      <th>0</th>\n",
              "      <td>1</td>\n",
              "      <td>0</td>\n",
              "    </tr>\n",
              "    <tr>\n",
              "      <th>1</th>\n",
              "      <td>1</td>\n",
              "      <td>0</td>\n",
              "    </tr>\n",
              "    <tr>\n",
              "      <th>2</th>\n",
              "      <td>1</td>\n",
              "      <td>0</td>\n",
              "    </tr>\n",
              "    <tr>\n",
              "      <th>3</th>\n",
              "      <td>0</td>\n",
              "      <td>1</td>\n",
              "    </tr>\n",
              "    <tr>\n",
              "      <th>4</th>\n",
              "      <td>1</td>\n",
              "      <td>0</td>\n",
              "    </tr>\n",
              "    <tr>\n",
              "      <th>...</th>\n",
              "      <td>...</td>\n",
              "      <td>...</td>\n",
              "    </tr>\n",
              "    <tr>\n",
              "      <th>1039</th>\n",
              "      <td>1</td>\n",
              "      <td>0</td>\n",
              "    </tr>\n",
              "    <tr>\n",
              "      <th>1040</th>\n",
              "      <td>1</td>\n",
              "      <td>0</td>\n",
              "    </tr>\n",
              "    <tr>\n",
              "      <th>1041</th>\n",
              "      <td>0</td>\n",
              "      <td>1</td>\n",
              "    </tr>\n",
              "    <tr>\n",
              "      <th>1042</th>\n",
              "      <td>1</td>\n",
              "      <td>0</td>\n",
              "    </tr>\n",
              "    <tr>\n",
              "      <th>1043</th>\n",
              "      <td>1</td>\n",
              "      <td>0</td>\n",
              "    </tr>\n",
              "  </tbody>\n",
              "</table>\n",
              "<p>1044 rows × 2 columns</p>\n",
              "</div>\n",
              "      <button class=\"colab-df-convert\" onclick=\"convertToInteractive('df-8954cf1a-b9f2-4ab5-a8b8-de0c83e0ba62')\"\n",
              "              title=\"Convert this dataframe to an interactive table.\"\n",
              "              style=\"display:none;\">\n",
              "        \n",
              "  <svg xmlns=\"http://www.w3.org/2000/svg\" height=\"24px\"viewBox=\"0 0 24 24\"\n",
              "       width=\"24px\">\n",
              "    <path d=\"M0 0h24v24H0V0z\" fill=\"none\"/>\n",
              "    <path d=\"M18.56 5.44l.94 2.06.94-2.06 2.06-.94-2.06-.94-.94-2.06-.94 2.06-2.06.94zm-11 1L8.5 8.5l.94-2.06 2.06-.94-2.06-.94L8.5 2.5l-.94 2.06-2.06.94zm10 10l.94 2.06.94-2.06 2.06-.94-2.06-.94-.94-2.06-.94 2.06-2.06.94z\"/><path d=\"M17.41 7.96l-1.37-1.37c-.4-.4-.92-.59-1.43-.59-.52 0-1.04.2-1.43.59L10.3 9.45l-7.72 7.72c-.78.78-.78 2.05 0 2.83L4 21.41c.39.39.9.59 1.41.59.51 0 1.02-.2 1.41-.59l7.78-7.78 2.81-2.81c.8-.78.8-2.07 0-2.86zM5.41 20L4 18.59l7.72-7.72 1.47 1.35L5.41 20z\"/>\n",
              "  </svg>\n",
              "      </button>\n",
              "      \n",
              "  <style>\n",
              "    .colab-df-container {\n",
              "      display:flex;\n",
              "      flex-wrap:wrap;\n",
              "      gap: 12px;\n",
              "    }\n",
              "\n",
              "    .colab-df-convert {\n",
              "      background-color: #E8F0FE;\n",
              "      border: none;\n",
              "      border-radius: 50%;\n",
              "      cursor: pointer;\n",
              "      display: none;\n",
              "      fill: #1967D2;\n",
              "      height: 32px;\n",
              "      padding: 0 0 0 0;\n",
              "      width: 32px;\n",
              "    }\n",
              "\n",
              "    .colab-df-convert:hover {\n",
              "      background-color: #E2EBFA;\n",
              "      box-shadow: 0px 1px 2px rgba(60, 64, 67, 0.3), 0px 1px 3px 1px rgba(60, 64, 67, 0.15);\n",
              "      fill: #174EA6;\n",
              "    }\n",
              "\n",
              "    [theme=dark] .colab-df-convert {\n",
              "      background-color: #3B4455;\n",
              "      fill: #D2E3FC;\n",
              "    }\n",
              "\n",
              "    [theme=dark] .colab-df-convert:hover {\n",
              "      background-color: #434B5C;\n",
              "      box-shadow: 0px 1px 3px 1px rgba(0, 0, 0, 0.15);\n",
              "      filter: drop-shadow(0px 1px 2px rgba(0, 0, 0, 0.3));\n",
              "      fill: #FFFFFF;\n",
              "    }\n",
              "  </style>\n",
              "\n",
              "      <script>\n",
              "        const buttonEl =\n",
              "          document.querySelector('#df-8954cf1a-b9f2-4ab5-a8b8-de0c83e0ba62 button.colab-df-convert');\n",
              "        buttonEl.style.display =\n",
              "          google.colab.kernel.accessAllowed ? 'block' : 'none';\n",
              "\n",
              "        async function convertToInteractive(key) {\n",
              "          const element = document.querySelector('#df-8954cf1a-b9f2-4ab5-a8b8-de0c83e0ba62');\n",
              "          const dataTable =\n",
              "            await google.colab.kernel.invokeFunction('convertToInteractive',\n",
              "                                                     [key], {});\n",
              "          if (!dataTable) return;\n",
              "\n",
              "          const docLinkHtml = 'Like what you see? Visit the ' +\n",
              "            '<a target=\"_blank\" href=https://colab.research.google.com/notebooks/data_table.ipynb>data table notebook</a>'\n",
              "            + ' to learn more about interactive tables.';\n",
              "          element.innerHTML = '';\n",
              "          dataTable['output_type'] = 'display_data';\n",
              "          await google.colab.output.renderOutput(dataTable, element);\n",
              "          const docLink = document.createElement('div');\n",
              "          docLink.innerHTML = docLinkHtml;\n",
              "          element.appendChild(docLink);\n",
              "        }\n",
              "      </script>\n",
              "    </div>\n",
              "  </div>\n",
              "  "
            ]
          },
          "metadata": {},
          "execution_count": 6
        }
      ]
    },
    {
      "cell_type": "code",
      "source": [
        "inputs_train,inputs_test,targets_train,targets_test = train_test_split(inputs,targets_dummies,test_size=0.15,random_state=10)"
      ],
      "metadata": {
        "id": "PvO71tkYqgME"
      },
      "execution_count": null,
      "outputs": []
    },
    {
      "cell_type": "code",
      "source": [
        "scaler = StandardScaler()\n",
        "scaler.fit(inputs)"
      ],
      "metadata": {
        "colab": {
          "base_uri": "https://localhost:8080/"
        },
        "id": "JctHWL0jqoIo",
        "outputId": "e0e1e377-e030-42fc-a556-578fc81136b6"
      },
      "execution_count": null,
      "outputs": [
        {
          "output_type": "execute_result",
          "data": {
            "text/plain": [
              "StandardScaler()"
            ]
          },
          "metadata": {},
          "execution_count": 8
        }
      ]
    },
    {
      "cell_type": "code",
      "source": [
        "inputs_scaled_train = scaler.transform(inputs_train)\n",
        "inputs_scaled_test = scaler.transform(inputs_test)"
      ],
      "metadata": {
        "id": "I2DaE4bNqymG"
      },
      "execution_count": null,
      "outputs": []
    },
    {
      "cell_type": "markdown",
      "source": [
        "## Logistic Regression"
      ],
      "metadata": {
        "id": "e6xIQqFhUXtS"
      }
    },
    {
      "cell_type": "markdown",
      "source": [
        ">> Model Making\n"
      ],
      "metadata": {
        "id": "CaHK6huvUfG_"
      }
    },
    {
      "cell_type": "code",
      "source": [
        "model = LogisticRegression()\n",
        "model.fit(inputs_scaled_train,targets_train.iloc[:,1])"
      ],
      "metadata": {
        "colab": {
          "base_uri": "https://localhost:8080/"
        },
        "id": "DfZ58J23rAUx",
        "outputId": "d6b88c6a-2a8e-4352-a085-e0b78933b3da"
      },
      "execution_count": null,
      "outputs": [
        {
          "output_type": "execute_result",
          "data": {
            "text/plain": [
              "LogisticRegression()"
            ]
          },
          "metadata": {},
          "execution_count": 10
        }
      ]
    },
    {
      "cell_type": "markdown",
      "source": [
        ">> Train accuracy/score"
      ],
      "metadata": {
        "id": "yyvjjOhfUhx0"
      }
    },
    {
      "cell_type": "code",
      "source": [
        "f'{model.score(inputs_scaled_train,targets_train.iloc[:,1])*100}%'"
      ],
      "metadata": {
        "colab": {
          "base_uri": "https://localhost:8080/",
          "height": 57
        },
        "id": "1_GAgtbtrL-E",
        "outputId": "3fdf7625-7abb-474b-8d8c-f61d44558b23"
      },
      "execution_count": null,
      "outputs": [
        {
          "output_type": "execute_result",
          "data": {
            "text/plain": [
              "'76.09921082299887%'"
            ],
            "application/vnd.google.colaboratory.intrinsic+json": {
              "type": "string"
            }
          },
          "metadata": {},
          "execution_count": 11
        }
      ]
    },
    {
      "cell_type": "markdown",
      "source": [
        ">> Test accuracy/score"
      ],
      "metadata": {
        "id": "wlSeLrWPUm1v"
      }
    },
    {
      "cell_type": "code",
      "source": [
        "f'{model.score(inputs_scaled_test,targets_test.iloc[:,1])*100}%'"
      ],
      "metadata": {
        "colab": {
          "base_uri": "https://localhost:8080/",
          "height": 57
        },
        "id": "6NlCS0amrfRp",
        "outputId": "ddaac7d9-acbc-4003-de9c-e4f58ae39cbb"
      },
      "execution_count": null,
      "outputs": [
        {
          "output_type": "execute_result",
          "data": {
            "text/plain": [
              "'77.07006369426752%'"
            ],
            "application/vnd.google.colaboratory.intrinsic+json": {
              "type": "string"
            }
          },
          "metadata": {},
          "execution_count": 12
        }
      ]
    },
    {
      "cell_type": "markdown",
      "source": [
        "## Decision Trees"
      ],
      "metadata": {
        "id": "yC_H6G7aVVHi"
      }
    },
    {
      "cell_type": "markdown",
      "source": [
        ">> Model Making"
      ],
      "metadata": {
        "id": "ABLOUKngVi7Z"
      }
    },
    {
      "cell_type": "code",
      "source": [
        "from sklearn import tree\n",
        "DT_model = tree.DecisionTreeClassifier(max_depth=5)\n",
        "DT_model.fit(inputs_scaled_train,targets_train.iloc[:,1])"
      ],
      "metadata": {
        "colab": {
          "base_uri": "https://localhost:8080/"
        },
        "id": "edb5JDgmVtIf",
        "outputId": "bdfc440f-da24-4a06-c7d3-45e0e8167626"
      },
      "execution_count": null,
      "outputs": [
        {
          "output_type": "execute_result",
          "data": {
            "text/plain": [
              "DecisionTreeClassifier(max_depth=5)"
            ]
          },
          "metadata": {},
          "execution_count": 13
        }
      ]
    },
    {
      "cell_type": "markdown",
      "source": [
        ">> Train accuracy/score"
      ],
      "metadata": {
        "id": "1orxYJhoVljT"
      }
    },
    {
      "cell_type": "code",
      "source": [
        "f'{DT_model.score(inputs_scaled_train,targets_train.iloc[:,1])*100}%'"
      ],
      "metadata": {
        "colab": {
          "base_uri": "https://localhost:8080/",
          "height": 57
        },
        "id": "nEB_hjstVtps",
        "outputId": "6d590010-54ac-4a48-db4b-087d890db923"
      },
      "execution_count": null,
      "outputs": [
        {
          "output_type": "execute_result",
          "data": {
            "text/plain": [
              "'81.05975197294251%'"
            ],
            "application/vnd.google.colaboratory.intrinsic+json": {
              "type": "string"
            }
          },
          "metadata": {},
          "execution_count": 14
        }
      ]
    },
    {
      "cell_type": "markdown",
      "source": [
        ">> Test accuracy/score"
      ],
      "metadata": {
        "id": "Q8MU_oyUVoTn"
      }
    },
    {
      "cell_type": "code",
      "source": [
        "f'{DT_model.score(inputs_scaled_test,targets_test.iloc[:,1])*100}%'"
      ],
      "metadata": {
        "colab": {
          "base_uri": "https://localhost:8080/",
          "height": 57
        },
        "id": "4Zz2A90TVuM2",
        "outputId": "df50a308-c96a-437b-ea87-0b2294bfb918"
      },
      "execution_count": null,
      "outputs": [
        {
          "output_type": "execute_result",
          "data": {
            "text/plain": [
              "'78.98089171974523%'"
            ],
            "application/vnd.google.colaboratory.intrinsic+json": {
              "type": "string"
            }
          },
          "metadata": {},
          "execution_count": 15
        }
      ]
    },
    {
      "cell_type": "markdown",
      "source": [
        "## Random Forests"
      ],
      "metadata": {
        "id": "AXFJLkT2Ubqa"
      }
    },
    {
      "cell_type": "markdown",
      "source": [
        ">> Model making"
      ],
      "metadata": {
        "id": "Z9nd3kSrVrMC"
      }
    },
    {
      "cell_type": "code",
      "source": [
        "from sklearn.ensemble import RandomForestClassifier\n",
        "\n",
        "RF_model = RandomForestClassifier(max_depth = 4,random_state=123,n_estimators=150)\n",
        "RF_model.fit(inputs_scaled_train,targets_train.iloc[:,1])"
      ],
      "metadata": {
        "colab": {
          "base_uri": "https://localhost:8080/"
        },
        "id": "kSZtI8fvTVLc",
        "outputId": "7932790e-667f-4755-850f-96f1de512cab"
      },
      "execution_count": null,
      "outputs": [
        {
          "output_type": "execute_result",
          "data": {
            "text/plain": [
              "RandomForestClassifier(max_depth=4, n_estimators=150, random_state=123)"
            ]
          },
          "metadata": {},
          "execution_count": 16
        }
      ]
    },
    {
      "cell_type": "markdown",
      "source": [
        ">> Train accuracy/score"
      ],
      "metadata": {
        "id": "kQR7WWLbVZFw"
      }
    },
    {
      "cell_type": "code",
      "source": [
        "f'{RF_model.score(inputs_scaled_train,targets_train.iloc[:,1])*100}%'"
      ],
      "metadata": {
        "colab": {
          "base_uri": "https://localhost:8080/",
          "height": 57
        },
        "id": "ZlO6qUKOTVOS",
        "outputId": "5f325a66-6699-4abf-9a6c-f4f7112ca205"
      },
      "execution_count": null,
      "outputs": [
        {
          "output_type": "execute_result",
          "data": {
            "text/plain": [
              "'83.8782412626832%'"
            ],
            "application/vnd.google.colaboratory.intrinsic+json": {
              "type": "string"
            }
          },
          "metadata": {},
          "execution_count": 17
        }
      ]
    },
    {
      "cell_type": "markdown",
      "source": [
        ">> Test accuracy/score"
      ],
      "metadata": {
        "id": "GAdUNqjOVcHO"
      }
    },
    {
      "cell_type": "code",
      "source": [
        "f'{RF_model.score(inputs_scaled_test,targets_test.iloc[:,1])*100}%'"
      ],
      "metadata": {
        "colab": {
          "base_uri": "https://localhost:8080/",
          "height": 57
        },
        "id": "TLElh0C3Tvi9",
        "outputId": "55d4eb4f-d28b-4373-be67-24b1d3bf219d"
      },
      "execution_count": null,
      "outputs": [
        {
          "output_type": "execute_result",
          "data": {
            "text/plain": [
              "'78.98089171974523%'"
            ],
            "application/vnd.google.colaboratory.intrinsic+json": {
              "type": "string"
            }
          },
          "metadata": {},
          "execution_count": 18
        }
      ]
    },
    {
      "cell_type": "code",
      "source": [
        "RF_model.predict(inputs_scaled_test),DT_model.predict(inputs_scaled_test)"
      ],
      "metadata": {
        "colab": {
          "base_uri": "https://localhost:8080/"
        },
        "id": "xmptTdl7WCsZ",
        "outputId": "d9e8a931-fff6-4599-8ca1-380d67ab3cd6"
      },
      "execution_count": null,
      "outputs": [
        {
          "output_type": "execute_result",
          "data": {
            "text/plain": [
              "(array([0, 1, 1, 1, 0, 0, 1, 0, 1, 1, 1, 1, 0, 0, 0, 0, 1, 0, 1, 1, 0, 1,\n",
              "        1, 1, 0, 1, 0, 1, 0, 1, 0, 1, 1, 0, 1, 1, 1, 0, 1, 0, 0, 0, 0, 0,\n",
              "        1, 1, 0, 0, 0, 0, 0, 1, 0, 0, 0, 1, 0, 1, 0, 0, 1, 1, 0, 0, 0, 0,\n",
              "        0, 0, 0, 1, 1, 0, 1, 0, 0, 1, 0, 1, 0, 0, 0, 1, 1, 0, 0, 0, 1, 1,\n",
              "        1, 1, 1, 0, 0, 1, 1, 1, 0, 0, 1, 0, 1, 1, 1, 0, 0, 1, 0, 0, 0, 1,\n",
              "        1, 1, 0, 0, 1, 1, 0, 0, 1, 1, 1, 1, 1, 0, 1, 1, 1, 1, 0, 0, 1, 0,\n",
              "        1, 0, 0, 0, 0, 1, 1, 0, 0, 1, 0, 0, 1, 0, 1, 1, 0, 1, 0, 1, 1, 0,\n",
              "        0, 1, 0], dtype=uint8),\n",
              " array([0, 1, 1, 1, 0, 0, 1, 0, 1, 0, 1, 1, 0, 1, 0, 1, 0, 0, 1, 1, 0, 1,\n",
              "        1, 0, 1, 0, 0, 0, 1, 1, 0, 1, 1, 0, 1, 1, 1, 0, 1, 0, 0, 0, 0, 0,\n",
              "        1, 1, 0, 0, 1, 0, 0, 1, 0, 0, 0, 1, 0, 1, 1, 1, 1, 1, 1, 0, 0, 0,\n",
              "        0, 0, 0, 1, 1, 1, 1, 0, 0, 1, 0, 1, 0, 0, 0, 1, 1, 0, 0, 0, 1, 0,\n",
              "        1, 1, 1, 0, 0, 1, 0, 1, 0, 0, 1, 0, 1, 1, 1, 0, 1, 1, 0, 0, 0, 1,\n",
              "        1, 1, 0, 0, 1, 1, 0, 0, 1, 1, 0, 0, 0, 0, 1, 1, 1, 1, 1, 0, 0, 0,\n",
              "        0, 0, 0, 0, 0, 1, 1, 0, 0, 1, 0, 0, 1, 0, 1, 1, 0, 1, 0, 1, 1, 1,\n",
              "        0, 1, 0], dtype=uint8))"
            ]
          },
          "metadata": {},
          "execution_count": 19
        }
      ]
    },
    {
      "cell_type": "markdown",
      "source": [
        "## KNN"
      ],
      "metadata": {
        "id": "YBf_2hPdQlO3"
      }
    },
    {
      "cell_type": "markdown",
      "source": [
        ">> Importing"
      ],
      "metadata": {
        "id": "ll-nRcARSQWC"
      }
    },
    {
      "cell_type": "code",
      "source": [
        "from sklearn.neighbors import KNeighborsClassifier"
      ],
      "metadata": {
        "id": "yM64IjEiQmv0"
      },
      "execution_count": null,
      "outputs": []
    },
    {
      "cell_type": "markdown",
      "source": [
        ">> Data"
      ],
      "metadata": {
        "id": "1V2li_9QSSce"
      }
    },
    {
      "cell_type": "code",
      "source": [
        "knn_train_inputs,knn_train_targets = inputs_scaled_train,targets_train.iloc[:,1]\n",
        "knn_test_inputs,knn_test_targets = inputs_scaled_test,targets_test.iloc[:,1]"
      ],
      "metadata": {
        "id": "iV72aJDUQz7x"
      },
      "execution_count": null,
      "outputs": []
    },
    {
      "cell_type": "markdown",
      "source": [
        ">> Model Making"
      ],
      "metadata": {
        "id": "63b-gr00SXoO"
      }
    },
    {
      "cell_type": "code",
      "source": [
        "knn_model = KNeighborsClassifier(n_neighbors=15,weights='distance')\n",
        "knn_model.fit(knn_train_inputs,knn_train_targets)"
      ],
      "metadata": {
        "colab": {
          "base_uri": "https://localhost:8080/"
        },
        "id": "5HGwBSWnRSB3",
        "outputId": "09b58ea9-9eec-4a36-99e4-ef3aff9d7cdc"
      },
      "execution_count": null,
      "outputs": [
        {
          "output_type": "execute_result",
          "data": {
            "text/plain": [
              "KNeighborsClassifier(n_neighbors=15, weights='distance')"
            ]
          },
          "metadata": {},
          "execution_count": 52
        }
      ]
    },
    {
      "cell_type": "markdown",
      "source": [
        ">> Test accuracy/score"
      ],
      "metadata": {
        "id": "j0qVgiGGSewC"
      }
    },
    {
      "cell_type": "code",
      "source": [
        "knn_model.score(knn_test_inputs,knn_test_targets)"
      ],
      "metadata": {
        "colab": {
          "base_uri": "https://localhost:8080/"
        },
        "id": "-wJB92k2Rt28",
        "outputId": "49308ab8-2f6f-4beb-db4b-9588657b897e"
      },
      "execution_count": null,
      "outputs": [
        {
          "output_type": "execute_result",
          "data": {
            "text/plain": [
              "0.7898089171974523"
            ]
          },
          "metadata": {},
          "execution_count": 53
        }
      ]
    },
    {
      "cell_type": "code",
      "source": [
        "knn_train_inputs.shape"
      ],
      "metadata": {
        "colab": {
          "base_uri": "https://localhost:8080/"
        },
        "id": "rHxK8zCZ-H0l",
        "outputId": "5a285900-186b-48ea-cbf3-bfd3573f8ece"
      },
      "execution_count": null,
      "outputs": [
        {
          "output_type": "execute_result",
          "data": {
            "text/plain": [
              "(887, 12)"
            ]
          },
          "metadata": {},
          "execution_count": 54
        }
      ]
    },
    {
      "cell_type": "markdown",
      "source": [
        ">>Removing Unnecessary Features"
      ],
      "metadata": {
        "id": "3jJ0K2Zv_lem"
      }
    },
    {
      "cell_type": "code",
      "source": [
        "knn_train_inputs = pd.DataFrame(data=knn_train_inputs)\n",
        "knn_test_inputs = pd.DataFrame(data=knn_test_inputs)\n",
        "print(knn_model.score(knn_test_inputs,knn_test_targets))\n",
        "i = 0\n",
        "while i < knn_train_inputs.shape[1]:\n",
        "  knn_model_aa = KNeighborsClassifier(n_neighbors=15,weights='distance')\n",
        "  knn_model_aa.fit(knn_train_inputs.drop(i,axis=1),knn_train_targets)\n",
        "\n",
        "  knn_model_a = KNeighborsClassifier(n_neighbors=15,weights='distance')\n",
        "  knn_model_a.fit(knn_train_inputs,knn_train_targets)\n",
        "\n",
        "  af = knn_model_aa.score(knn_test_inputs.drop(i,axis=1),knn_test_targets)\n",
        "  bf = knn_model_a.score(knn_test_inputs,knn_test_targets)\n",
        "  if af > bf:\n",
        "    knn_train_inputs = knn_train_inputs.drop(i,axis=1)\n",
        "    knn_test_inputs = knn_test_inputs.drop(i,axis=1)\n",
        "  i += 1\n",
        "\n",
        "knn_model = KNeighborsClassifier(n_neighbors=15,weights='distance')\n",
        "knn_model.fit(knn_train_inputs,knn_train_targets)\n",
        "print(knn_model.score(knn_test_inputs,knn_test_targets))"
      ],
      "metadata": {
        "colab": {
          "base_uri": "https://localhost:8080/"
        },
        "id": "u2CxT1N19sa6",
        "outputId": "8b4fc2f4-0916-4d9d-c1f1-d5491b7018b9"
      },
      "execution_count": null,
      "outputs": [
        {
          "output_type": "stream",
          "name": "stdout",
          "text": [
            "0.7898089171974523\n",
            "0.8280254777070064\n"
          ]
        }
      ]
    },
    {
      "cell_type": "markdown",
      "source": [
        ">>Finding best K value"
      ],
      "metadata": {
        "id": "4tW-u0DQ_qcy"
      }
    },
    {
      "cell_type": "code",
      "source": [
        "k = 0\n",
        "accu = 0.\n",
        "for i in range(3,25,2):\n",
        "  knn_model = KNeighborsClassifier(n_neighbors=i,weights = 'distance')\n",
        "  knn_model.fit(knn_train_inputs,knn_train_targets)\n",
        "  new = knn_model.score(knn_test_inputs,knn_test_targets)\n",
        "  if new > accu:\n",
        "    accu = new\n",
        "    k = i\n",
        "  print(f'{i} : {new}')\n",
        "print(f'k : {k}')"
      ],
      "metadata": {
        "colab": {
          "base_uri": "https://localhost:8080/"
        },
        "id": "nSAjZgTO_g5d",
        "outputId": "8640afa8-7fb2-408c-a543-eccb647dd7d9"
      },
      "execution_count": null,
      "outputs": [
        {
          "output_type": "stream",
          "name": "stdout",
          "text": [
            "3 : 0.7515923566878981\n",
            "5 : 0.7707006369426752\n",
            "7 : 0.7834394904458599\n",
            "9 : 0.8152866242038217\n",
            "11 : 0.8089171974522293\n",
            "13 : 0.802547770700637\n",
            "15 : 0.8280254777070064\n",
            "17 : 0.8343949044585988\n",
            "19 : 0.8152866242038217\n",
            "21 : 0.8152866242038217\n",
            "23 : 0.821656050955414\n",
            "k : 17\n"
          ]
        }
      ]
    },
    {
      "cell_type": "markdown",
      "source": [
        ">>Therefore after doing curse of dimensionality we got an accuracy of 82.80% and now by taking k = 17 we are getting an accuracy of 83.43%"
      ],
      "metadata": {
        "id": "JhdvbS4S_Xg4"
      }
    },
    {
      "cell_type": "code",
      "source": [
        "knn_model = KNeighborsClassifier(n_neighbors=k,weights='distance')\n",
        "knn_model.fit(knn_train_inputs,knn_train_targets)\n",
        "print(f'by backelemination and by taking K : {k} we got an accuracy of {knn_model.score(knn_test_inputs,knn_test_targets)*100}%')"
      ],
      "metadata": {
        "colab": {
          "base_uri": "https://localhost:8080/"
        },
        "id": "l1e_a7N5_fqX",
        "outputId": "04f646d2-b24a-43cd-bd2a-35e2ec378920"
      },
      "execution_count": null,
      "outputs": [
        {
          "output_type": "stream",
          "name": "stdout",
          "text": [
            "by backelemination and by taking K : 17 we got an accuracy of 83.43949044585987%\n"
          ]
        }
      ]
    }
  ]
}